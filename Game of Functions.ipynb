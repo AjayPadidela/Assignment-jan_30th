{
 "cells": [
  {
   "cell_type": "code",
   "execution_count": 1,
   "id": "cca6572b",
   "metadata": {},
   "outputs": [
    {
     "name": "stdout",
     "output_type": "stream",
     "text": [
      "Enter no. of elements of list: 5\n",
      "Enter elements of list\n",
      "8\n",
      "2\n",
      "3\n",
      "0\n",
      "7\n",
      "Sample list:  [8, 2, 3, 0, 7]\n",
      "The sum is 20\n"
     ]
    }
   ],
   "source": [
    "def sum(l):\n",
    "    s=0\n",
    "    for i in l:\n",
    "        s+=i\n",
    "    print('Sample list: ',l)    \n",
    "    print('The sum is',s)\n",
    "    return s\n",
    "\n",
    "n=int(input('Enter no. of elements of list: '))\n",
    "l1=[]\n",
    "print('Enter elements of list')\n",
    "for i in range(n):\n",
    "    element=int(input())\n",
    "    l1.append(element)\n",
    "    \n",
    "Sum1=sum(l1)"
   ]
  },
  {
   "cell_type": "code",
   "execution_count": null,
   "id": "f6552b85",
   "metadata": {},
   "outputs": [],
   "source": []
  }
 ],
 "metadata": {
  "kernelspec": {
   "display_name": "Python 3",
   "language": "python",
   "name": "python3"
  },
  "language_info": {
   "codemirror_mode": {
    "name": "ipython",
    "version": 3
   },
   "file_extension": ".py",
   "mimetype": "text/x-python",
   "name": "python",
   "nbconvert_exporter": "python",
   "pygments_lexer": "ipython3",
   "version": "3.8.8"
  }
 },
 "nbformat": 4,
 "nbformat_minor": 5
}
