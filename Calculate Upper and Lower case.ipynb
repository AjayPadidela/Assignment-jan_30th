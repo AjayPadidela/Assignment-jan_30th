{
 "cells": [
  {
   "cell_type": "code",
   "execution_count": 2,
   "id": "7b160c68",
   "metadata": {},
   "outputs": [
    {
     "name": "stdout",
     "output_type": "stream",
     "text": [
      "Enter String: The quick Brow Fox\n",
      "Number of Upper Case characters:  3\n",
      "Number of Lower Case characters:  12\n"
     ]
    }
   ],
   "source": [
    "def cap_low(s):\n",
    "    cap,low=0,0\n",
    "    for a in s:\n",
    "        i=ord(a)\n",
    "        if i>=65 and i<=90:\n",
    "            cap+=1\n",
    "        elif i>=97 and i<=122:\n",
    "            low+=1\n",
    "            \n",
    "    print('Number of Upper Case characters: ',cap)\n",
    "    print('Number of Lower Case characters: ',low)\n",
    "    \n",
    "s=input(\"Enter String: \")\n",
    "cap_low(s)"
   ]
  },
  {
   "cell_type": "code",
   "execution_count": null,
   "id": "32482ac8",
   "metadata": {},
   "outputs": [],
   "source": []
  }
 ],
 "metadata": {
  "kernelspec": {
   "display_name": "Python 3",
   "language": "python",
   "name": "python3"
  },
  "language_info": {
   "codemirror_mode": {
    "name": "ipython",
    "version": 3
   },
   "file_extension": ".py",
   "mimetype": "text/x-python",
   "name": "python",
   "nbconvert_exporter": "python",
   "pygments_lexer": "ipython3",
   "version": "3.8.8"
  }
 },
 "nbformat": 4,
 "nbformat_minor": 5
}
