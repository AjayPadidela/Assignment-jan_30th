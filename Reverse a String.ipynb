{
 "cells": [
  {
   "cell_type": "code",
   "execution_count": 1,
   "id": "a3480de5",
   "metadata": {},
   "outputs": [
    {
     "name": "stdout",
     "output_type": "stream",
     "text": [
      "Enter string: 1234abcd\n",
      "Reversed String is:  dcba4321\n"
     ]
    }
   ],
   "source": [
    "def rev_str(s):\n",
    "    rev=s[::-1]\n",
    "    print(\"Reversed String is: \",rev)\n",
    "    return rev\n",
    "\n",
    "s=input('Enter string: ')\n",
    "s2=rev_str(s)"
   ]
  },
  {
   "cell_type": "code",
   "execution_count": null,
   "id": "d9fd1e21",
   "metadata": {},
   "outputs": [],
   "source": []
  }
 ],
 "metadata": {
  "kernelspec": {
   "display_name": "Python 3",
   "language": "python",
   "name": "python3"
  },
  "language_info": {
   "codemirror_mode": {
    "name": "ipython",
    "version": 3
   },
   "file_extension": ".py",
   "mimetype": "text/x-python",
   "name": "python",
   "nbconvert_exporter": "python",
   "pygments_lexer": "ipython3",
   "version": "3.8.8"
  }
 },
 "nbformat": 4,
 "nbformat_minor": 5
}
